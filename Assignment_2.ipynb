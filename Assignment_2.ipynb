{
 "cells": [
  {
   "cell_type": "raw",
   "id": "bf26b0d1",
   "metadata": {},
   "source": [
    "1.What are the two values of the Boolean data type? How do you write them?\n",
    "Boolean Values - 0 and 1\n",
    "we can write them as 0 = False , 1 =True"
   ]
  },
  {
   "cell_type": "raw",
   "id": "ef388db8",
   "metadata": {},
   "source": [
    "2.What are the three different types of Boolean operators? \n",
    " Boolean operators - \n",
    " and , or , not\n"
   ]
  },
  {
   "cell_type": "raw",
   "id": "ee083354",
   "metadata": {},
   "source": [
    "3. Make a list of each Boolean operator's truth tables (i.e. every possible combination of Boolean values for the operator and what it evaluate ).\n",
    "and table\n",
    " 0, 0 = 0\n",
    " 0, 1 = 0\n",
    " 1,0  = 0\n",
    " 1, 1 = 1\n",
    " or table \n",
    "  0, 0 = 0\n",
    " 0, 1 = 1\n",
    " 1,0  = 1\n",
    " 1, 1 = 0\n",
    " \n",
    "not table \n",
    " !0 = 1\n",
    " !1 = 0\n",
    " \n",
    " "
   ]
  },
  {
   "cell_type": "raw",
   "id": "7b02f3c8",
   "metadata": {},
   "source": [
    "4. What are the values of the following expressions?\n",
    "(5 > 4) and (3 == 5) = false\n",
    "not (5 > 4) = false\n",
    "(5 > 4) or (3 == 5) = false\n",
    "not ((5 > 4) or (3 == 5)) = true\n",
    "(True and True) and (True == False) = false\n",
    "(not False) or (not True) = true\n"
   ]
  },
  {
   "cell_type": "raw",
   "id": "a94589f0",
   "metadata": {},
   "source": [
    "5. What are the six comparison operators?\n",
    ">,<,<=,>=,==,!="
   ]
  },
  {
   "cell_type": "raw",
   "id": "915388d0",
   "metadata": {},
   "source": [
    "6. How do you tell the difference between the equal to and assignment operators?Describe a condition and when you would use one.\n",
    " Assignment operator is used to assign some value to a variable like \n",
    " x= 20\n",
    " Comparison operator is used in comparison\n",
    " eg . x = 20\n",
    " if x ==20:\n",
    " print('yes')\n",
    " \n"
   ]
  },
  {
   "cell_type": "code",
   "execution_count": null,
   "id": "4f30b4a9",
   "metadata": {},
   "outputs": [],
   "source": [
    "7. Identify the three blocks in this code:\n",
    "spam = 0\n",
    "if spam == 10: #1st block\n",
    "    print('eggs')\n",
    "if spam > 5: #2nd block\n",
    "    print('bacon')\n",
    "else: #3rd block\n",
    "    print('ham') \n",
    "    print('spam')\n",
    "    print('spam')\n",
    " \n",
    "\n"
   ]
  },
  {
   "cell_type": "code",
   "execution_count": null,
   "id": "ca0fd9a3",
   "metadata": {},
   "outputs": [],
   "source": [
    "8.Write code that prints Hello if 1 is stored in spam, prints Howdy if 2 is stored in spam, and prints Greetings! if anything else is stored in spam.\n"
   ]
  },
  {
   "cell_type": "code",
   "execution_count": null,
   "id": "79d4a923",
   "metadata": {},
   "outputs": [],
   "source": [
    "spam = 0 \n",
    "if spam ==1:\n",
    "    print(\"Hello\")\n",
    "if spam ==2:\n",
    "    print('Howdy')\n",
    "else :\n",
    "    print('Greetings!')"
   ]
  },
  {
   "cell_type": "code",
   "execution_count": null,
   "id": "c2787a69",
   "metadata": {},
   "outputs": [],
   "source": [
    "9.If your programme is stuck in an endless loop, what keys you’ll press?\n",
    "ctrl+c"
   ]
  },
  {
   "cell_type": "code",
   "execution_count": null,
   "id": "deaa0735",
   "metadata": {},
   "outputs": [],
   "source": [
    "10. How can you tell the difference between break and continue?\n",
    "break is used to terminate the statement in which it is present. it resumes the next statement if present any whereas if we use continue \n",
    "statement it rejects all the remaining statements the loop and moves the control back to the top of the loop."
   ]
  },
  {
   "cell_type": "code",
   "execution_count": null,
   "id": "ffaf6e40",
   "metadata": {},
   "outputs": [],
   "source": [
    "11.what is the difference between range(10), range(0, 10), and range(0, 10, 1)?\n",
    "all three will give the same result if used they will give the list of 0 to 9 numbers"
   ]
  },
  {
   "cell_type": "code",
   "execution_count": null,
   "id": "6219a589",
   "metadata": {},
   "outputs": [],
   "source": [
    "12. Write a short program that prints the numbers 1 to 10 using a for loop. Then write an equivalent program that prints the numbers 1 to 10 using a while loop."
   ]
  },
  {
   "cell_type": "code",
   "execution_count": 5,
   "id": "9a1e031b",
   "metadata": {},
   "outputs": [
    {
     "name": "stdout",
     "output_type": "stream",
     "text": [
      "1\n",
      "2\n",
      "3\n",
      "4\n",
      "5\n",
      "6\n",
      "7\n",
      "8\n",
      "9\n",
      "10\n"
     ]
    }
   ],
   "source": [
    "n = 10\n",
    "for i in range(1,n+1):\n",
    "    print(i)"
   ]
  },
  {
   "cell_type": "code",
   "execution_count": 11,
   "id": "c04c89dc",
   "metadata": {},
   "outputs": [
    {
     "name": "stdout",
     "output_type": "stream",
     "text": [
      "1\n",
      "2\n",
      "3\n",
      "4\n",
      "5\n",
      "6\n",
      "7\n",
      "8\n",
      "9\n",
      "10\n"
     ]
    }
   ],
   "source": [
    "a = 0\n",
    "n = 10\n",
    "while a < n:\n",
    "    a = a+1\n",
    "    print(a)"
   ]
  },
  {
   "cell_type": "code",
   "execution_count": null,
   "id": "7e3fa159",
   "metadata": {},
   "outputs": [],
   "source": [
    "13. If you had a function named bacon() inside a module named spam, how would you call it after importing spam?\n",
    "import spam from bacon()\n",
    "x = bacon()"
   ]
  }
 ],
 "metadata": {
  "kernelspec": {
   "display_name": "Python 3",
   "language": "python",
   "name": "python3"
  },
  "language_info": {
   "codemirror_mode": {
    "name": "ipython",
    "version": 3
   },
   "file_extension": ".py",
   "mimetype": "text/x-python",
   "name": "python",
   "nbconvert_exporter": "python",
   "pygments_lexer": "ipython3",
   "version": "3.8.8"
  }
 },
 "nbformat": 4,
 "nbformat_minor": 5
}
