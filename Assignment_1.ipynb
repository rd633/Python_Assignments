{
 "cells": [
  {
   "cell_type": "raw",
   "id": "12c709d6",
   "metadata": {},
   "source": [
    "\n",
    "1.In the below elements which of them are values or an expression? eg:- values can be integer or string and expressions will be mathematical operators.\n",
    "* = expression\n",
    "'hello'= value\n",
    "-87.8 = value\n",
    "- = expression\n",
    "/ = expression \n",
    "+ = expression\n",
    "6 = value\n"
   ]
  },
  {
   "cell_type": "raw",
   "id": "14eb8d77",
   "metadata": {},
   "source": [
    "2. What is the difference between string and variable?\n",
    "string = when we declare a variable using quotes\n",
    "eg. x = \"4\" , y = \"5\"\n",
    "\n",
    "variable = in variable we can store value in memory location.\n",
    "eg - x = 4 , y = 5\n",
    "\n"
   ]
  },
  {
   "cell_type": "raw",
   "id": "b1c978f2",
   "metadata": {},
   "source": [
    "3.Describe three different data types.\n",
    "--Numeric datatype\n",
    "1) int \n",
    "2) float \n",
    "3) complex \n",
    "--text type\n",
    "1) string\n",
    "--boolean\n",
    "1) bool datatype"
   ]
  },
  {
   "cell_type": "raw",
   "id": "d3208faa",
   "metadata": {},
   "source": [
    "4. What is an expression made up of? What do all expressions do?\n",
    "Expression is a combination of varibale and operators and operand in python when combine produce some value\n",
    "expression are used to solve particular problem \n",
    "eg a*b+10 is a expression"
   ]
  },
  {
   "cell_type": "raw",
   "id": "32a71c94",
   "metadata": {},
   "source": [
    " 5.This assignment statements, like spam = 10. What is the difference between an expression and a statement?\n",
    "\n",
    "When we use expression it gives us some value as a result but in statement it does not return any value "
   ]
  },
  {
   "cell_type": "raw",
   "id": "953a64fe",
   "metadata": {},
   "source": [
    "6.  After running the following code, what does the variable bacon contain?\n",
    "bacon = 22\n",
    "bacon + 1\n",
    " bacon = 23"
   ]
  },
  {
   "cell_type": "raw",
   "id": "3bbd6442",
   "metadata": {},
   "source": [
    "7.What should the values of the following two terms be?\n",
    "'spam' + 'spamspam'\n",
    "'spam' * 3\n",
    "=spamspamspam"
   ]
  },
  {
   "cell_type": "code",
   "execution_count": null,
   "id": "bfb3bed0",
   "metadata": {},
   "outputs": [],
   "source": [
    " 8.Why is eggs a valid variable name while 100 is invalid?\n",
    " -- Because variable name can only start with letter or underscore"
   ]
  },
  {
   "cell_type": "raw",
   "id": "9f888ed7",
   "metadata": {},
   "source": [
    "9.What three functions can be used to get the integer, floating-point number, or string version of a value?\n",
    "\n",
    "integer - int()\n",
    "floating-point number - float()\n",
    "string - str()"
   ]
  },
  {
   "cell_type": "raw",
   "id": "a12f40b2",
   "metadata": {},
   "source": [
    "10. Why does this expression cause an error? How can you fix it?\n",
    "'I have eaten ' + 99 + ' burritos.'\n",
    "can not add str and int so it will give a value error\n",
    "to fix it typecast int to str\n",
    "'I have eaten ' + '99' + ' burritos.'\n",
    "\n"
   ]
  }
 ],
 "metadata": {
  "kernelspec": {
   "display_name": "Python 3",
   "language": "python",
   "name": "python3"
  },
  "language_info": {
   "codemirror_mode": {
    "name": "ipython",
    "version": 3
   },
   "file_extension": ".py",
   "mimetype": "text/x-python",
   "name": "python",
   "nbconvert_exporter": "python",
   "pygments_lexer": "ipython3",
   "version": "3.8.8"
  }
 },
 "nbformat": 4,
 "nbformat_minor": 5
}
