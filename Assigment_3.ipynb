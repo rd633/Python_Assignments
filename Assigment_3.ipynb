{
 "cells": [
  {
   "cell_type": "raw",
   "id": "d9d4572a",
   "metadata": {},
   "source": [
    "1.Why are functions advantageous to have in your programs?\n",
    "--Function are useful in programs because when we are doing complex programs or one piece of code is frequently occuring we can \n",
    "create a function for that piece of code. Also helps in breaking long programs into smaller pices"
   ]
  },
  {
   "cell_type": "raw",
   "id": "bc2c0f60",
   "metadata": {},
   "source": [
    "2.When does the code in a function run: when it's specified or when it's called?\n",
    "--Function in code runs when it is called.  "
   ]
  },
  {
   "cell_type": "code",
   "execution_count": null,
   "id": "f269f4b6",
   "metadata": {},
   "outputs": [],
   "source": [
    "3.What statement creates a function?\n",
    "def test():\n",
    "    c = a+b\n",
    "test(10,20)"
   ]
  },
  {
   "cell_type": "raw",
   "id": "27ffb739",
   "metadata": {},
   "source": [
    "4.What is the difference between a function and a function call?\n",
    "--function means that you write your piece of code inside a function that you are declaring\n",
    "--function call means you are calling that function (to piece of code to be executed)or using that function.\n"
   ]
  },
  {
   "cell_type": "raw",
   "id": "90084845",
   "metadata": {},
   "source": [
    "5.How many global scopes are there in a Python program? How many local scopes?\n",
    "--There's only one global and local scope in Python\n"
   ]
  },
  {
   "cell_type": "raw",
   "id": "c068c79a",
   "metadata": {},
   "source": [
    "6.What happens to variables in a local scope when the function call returns?\n",
    "the variable in the local scope of a function can be use in that function only so after the call complete it will become undefined "
   ]
  },
  {
   "cell_type": "raw",
   "id": "0d9c01f3",
   "metadata": {},
   "source": [
    "7. What is the concept of a return value? Is it possible to have a return value in an expression?\n",
    "It is used to end execution of the function call and returns the value as the result. \n",
    "Expression can be use in the return value"
   ]
  },
  {
   "cell_type": "raw",
   "id": "48fd2090",
   "metadata": {},
   "source": [
    "8.If a function does not have a return statement, what is the return value of a call to that function?\n",
    "-- If a function doesnt have a return value then it will return none to the function \n"
   ]
  },
  {
   "cell_type": "raw",
   "id": "99b4fbb9",
   "metadata": {},
   "source": [
    "9.How do you make a function variable refer to the global variable?\n",
    "We can make function variable refer to global varibale by declaring global variable by using keyword global.\n"
   ]
  },
  {
   "cell_type": "raw",
   "id": "432ad3b8",
   "metadata": {},
   "source": [
    "10. What is the data type of None?\n",
    "None has its own datatype = NoneType\n"
   ]
  },
  {
   "cell_type": "code",
   "execution_count": 1,
   "id": "4028c5f4",
   "metadata": {},
   "outputs": [
    {
     "data": {
      "text/plain": [
       "NoneType"
      ]
     },
     "execution_count": 1,
     "metadata": {},
     "output_type": "execute_result"
    }
   ],
   "source": [
    "type(None)"
   ]
  },
  {
   "cell_type": "raw",
   "id": "2ebb709a",
   "metadata": {},
   "source": [
    "11.What does the sentence import areallyourpetsnamederic do?\n",
    "this will import the module - areallyourpetsnamederic and all its file in your code\n"
   ]
  },
  {
   "cell_type": "raw",
   "id": "34216280",
   "metadata": {},
   "source": [
    "12.. If you had a bacon() feature in a spam module, what would you call it after importing spam?\n",
    "--import spam from bacon"
   ]
  },
  {
   "cell_type": "raw",
   "id": "c5bfb57f",
   "metadata": {},
   "source": [
    "13.What can you do to save a programme from crashing if it encounters an error?\n",
    "We can use Error Handling in our code to prevent this."
   ]
  },
  {
   "cell_type": "raw",
   "id": "ce192fe4",
   "metadata": {},
   "source": [
    "14. What is the purpose of the try clause? What is the purpose of the except clause?\n",
    "if we have a code that might fail or error can be occurred then we can put that code in try and except block\n",
    "try - try() helps us test the cblock of code for errors\n",
    "except- except() helps us handle the block of code for errors\n",
    "\n"
   ]
  },
  {
   "cell_type": "code",
   "execution_count": null,
   "id": "fe5b6f95",
   "metadata": {},
   "outputs": [],
   "source": []
  }
 ],
 "metadata": {
  "kernelspec": {
   "display_name": "Python 3",
   "language": "python",
   "name": "python3"
  },
  "language_info": {
   "codemirror_mode": {
    "name": "ipython",
    "version": 3
   },
   "file_extension": ".py",
   "mimetype": "text/x-python",
   "name": "python",
   "nbconvert_exporter": "python",
   "pygments_lexer": "ipython3",
   "version": "3.8.8"
  }
 },
 "nbformat": 4,
 "nbformat_minor": 5
}
