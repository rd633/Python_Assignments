{
 "cells": [
  {
   "cell_type": "markdown",
   "id": "45232b42",
   "metadata": {},
   "source": [
    "1. How do you distinguish between shutil.copy() and shutil.copytree()"
   ]
  },
  {
   "cell_type": "code",
   "execution_count": null,
   "id": "1e2da3d1",
   "metadata": {},
   "outputs": [],
   "source": [
    "Ans: "
   ]
  },
  {
   "cell_type": "code",
   "execution_count": 60,
   "id": "c9b05196",
   "metadata": {},
   "outputs": [],
   "source": [
    "import shutil \n",
    "import os"
   ]
  },
  {
   "cell_type": "code",
   "execution_count": 2,
   "id": "2dafca80",
   "metadata": {},
   "outputs": [
    {
     "data": {
      "text/plain": [
       "'C:\\\\Users\\\\Rupal\\\\FSDS'"
      ]
     },
     "execution_count": 2,
     "metadata": {},
     "output_type": "execute_result"
    }
   ],
   "source": [
    "os.getcwd()\n"
   ]
  },
  {
   "cell_type": "code",
   "execution_count": 4,
   "id": "5f1f3273",
   "metadata": {
    "scrolled": true
   },
   "outputs": [],
   "source": [
    "os.chdir(\"C:\\\\Users\\\\Wise\\\\FSDS Python\")"
   ]
  },
  {
   "cell_type": "code",
   "execution_count": 5,
   "id": "895b76ff",
   "metadata": {},
   "outputs": [],
   "source": [
    "f = open('test.txt', 'r')\n",
    "f1 = open('test2.txt', 'w')"
   ]
  },
  {
   "cell_type": "code",
   "execution_count": 6,
   "id": "05859357",
   "metadata": {},
   "outputs": [
    {
     "data": {
      "text/plain": [
       "'test2.txt'"
      ]
     },
     "execution_count": 6,
     "metadata": {},
     "output_type": "execute_result"
    }
   ],
   "source": [
    "shutil.copy('test.txt','test2.txt')"
   ]
  },
  {
   "cell_type": "code",
   "execution_count": 7,
   "id": "8d7409f1",
   "metadata": {},
   "outputs": [],
   "source": [
    "f.close()\n",
    "f1.close()"
   ]
  },
  {
   "cell_type": "markdown",
   "id": "0e7248d0",
   "metadata": {},
   "source": [
    "Shutil.copy() copies the content of source file to the destination file. But if we use shutil.copy() the file's metadata(file creation and modification time)wont be preserved to avoid that we can use shutil.copy2()"
   ]
  },
  {
   "cell_type": "code",
   "execution_count": 8,
   "id": "f91ee529",
   "metadata": {},
   "outputs": [],
   "source": [
    "f2 = open('exp1.txt', 'w')"
   ]
  },
  {
   "cell_type": "code",
   "execution_count": 9,
   "id": "9e96fadc",
   "metadata": {},
   "outputs": [],
   "source": [
    "f2.close()"
   ]
  },
  {
   "cell_type": "code",
   "execution_count": 17,
   "id": "fdc94783",
   "metadata": {},
   "outputs": [],
   "source": [
    "src = \"C:\\\\Users\\\\Wise\\\\FSDS Python\\\\Experiments\""
   ]
  },
  {
   "cell_type": "code",
   "execution_count": 18,
   "id": "5c120d59",
   "metadata": {},
   "outputs": [],
   "source": [
    "dst = \"C:\\\\Users\\\\Wise\\\\FSDS Python\\\\test22\""
   ]
  },
  {
   "cell_type": "code",
   "execution_count": 19,
   "id": "b1f2b83f",
   "metadata": {
    "scrolled": false
   },
   "outputs": [
    {
     "data": {
      "text/plain": [
       "'C:\\\\Users\\\\Wise\\\\FSDS Python\\\\test22'"
      ]
     },
     "execution_count": 19,
     "metadata": {},
     "output_type": "execute_result"
    }
   ],
   "source": [
    "shutil.copytree(src,dst)"
   ]
  },
  {
   "cell_type": "code",
   "execution_count": 20,
   "id": "eb6ff4a1",
   "metadata": {},
   "outputs": [
    {
     "data": {
      "text/plain": [
       "['.ipynb_checkpoints',\n",
       " 'Assignments',\n",
       " 'destination',\n",
       " 'exp1.txt',\n",
       " 'Experiments',\n",
       " 'function and lambda function.ipynb',\n",
       " 'Function continued .ipynb',\n",
       " 'iterator,map,reduce,filter.ipynb',\n",
       " 'logging,debugging.ipynb',\n",
       " 'Loop,conditional statements.ipynb',\n",
       " 'loops.ipynb',\n",
       " 'mytest',\n",
       " 'Numpy 13 aug.ipynb',\n",
       " 'pandas basic.ipynb',\n",
       " 'pandas day2.ipynb',\n",
       " 'Pandas day3.ipynb',\n",
       " 'pandas prac.ipynb',\n",
       " 'Py basic string.ipynb',\n",
       " 'py lists,tuples,dict.ipynb',\n",
       " 'pyinputplus.ipynb',\n",
       " 'Python string basic  (2).ipynb',\n",
       " 'Python_Assignment_15_May_FSDS_Bootcamp.ipynb',\n",
       " 'Regex function.ipynb',\n",
       " 'Review Scrapper.ipynb',\n",
       " 'solution.ipynb',\n",
       " 'Task_28_05_2022_Rupal.ipynb',\n",
       " 'test.txt',\n",
       " 'test2.txt',\n",
       " 'test22',\n",
       " 'test5.txt',\n",
       " 'while loop and basic of function .ipynb',\n",
       " 'while loop.ipynb']"
      ]
     },
     "execution_count": 20,
     "metadata": {},
     "output_type": "execute_result"
    }
   ],
   "source": [
    "os.listdir()"
   ]
  },
  {
   "cell_type": "markdown",
   "id": "89d7a3c8",
   "metadata": {},
   "source": [
    "shutil.copytree() method recursively copies an entire directory tree at source to the destination directory. The destination directory, must not already exist. It will be created during copying. "
   ]
  },
  {
   "cell_type": "code",
   "execution_count": null,
   "id": "d72a15d7",
   "metadata": {},
   "outputs": [],
   "source": []
  },
  {
   "cell_type": "markdown",
   "id": "8728f726",
   "metadata": {},
   "source": [
    "2. What function is used to rename files??"
   ]
  },
  {
   "cell_type": "code",
   "execution_count": 21,
   "id": "64014a45",
   "metadata": {},
   "outputs": [],
   "source": [
    "os.rename('exp1.txt','exp_test.txt')"
   ]
  },
  {
   "cell_type": "code",
   "execution_count": 22,
   "id": "0693b6cb",
   "metadata": {},
   "outputs": [
    {
     "data": {
      "text/plain": [
       "['.ipynb_checkpoints',\n",
       " 'Assignments',\n",
       " 'destination',\n",
       " 'Experiments',\n",
       " 'exp_test.txt',\n",
       " 'function and lambda function.ipynb',\n",
       " 'Function continued .ipynb',\n",
       " 'iterator,map,reduce,filter.ipynb',\n",
       " 'logging,debugging.ipynb',\n",
       " 'Loop,conditional statements.ipynb',\n",
       " 'loops.ipynb',\n",
       " 'mytest',\n",
       " 'Numpy 13 aug.ipynb',\n",
       " 'pandas basic.ipynb',\n",
       " 'pandas day2.ipynb',\n",
       " 'Pandas day3.ipynb',\n",
       " 'pandas prac.ipynb',\n",
       " 'Py basic string.ipynb',\n",
       " 'py lists,tuples,dict.ipynb',\n",
       " 'pyinputplus.ipynb',\n",
       " 'Python string basic  (2).ipynb',\n",
       " 'Python_Assignment_15_May_FSDS_Bootcamp.ipynb',\n",
       " 'Regex function.ipynb',\n",
       " 'Review Scrapper.ipynb',\n",
       " 'solution.ipynb',\n",
       " 'Task_28_05_2022_Rupal.ipynb',\n",
       " 'test.txt',\n",
       " 'test2.txt',\n",
       " 'test22',\n",
       " 'test5.txt',\n",
       " 'while loop and basic of function .ipynb',\n",
       " 'while loop.ipynb']"
      ]
     },
     "execution_count": 22,
     "metadata": {},
     "output_type": "execute_result"
    }
   ],
   "source": [
    "os.listdir() #can check the renamed file exp1 --> exp_test"
   ]
  },
  {
   "cell_type": "markdown",
   "id": "9e621779",
   "metadata": {},
   "source": [
    "3.What is the difference between the delete functions in the send2trash and shutil modules"
   ]
  },
  {
   "cell_type": "code",
   "execution_count": null,
   "id": "70c515d7",
   "metadata": {},
   "outputs": [],
   "source": [
    "Ans:"
   ]
  },
  {
   "cell_type": "code",
   "execution_count": 24,
   "id": "b6e426c4",
   "metadata": {},
   "outputs": [],
   "source": [
    "shutil.rmtree(\"C:\\\\Users\\\\Wise\\\\FSDS Python\\\\test22\") \n",
    "              #removes the entire directory tree path and all the files in it permanenetly"
   ]
  },
  {
   "cell_type": "code",
   "execution_count": 25,
   "id": "d0be0325",
   "metadata": {},
   "outputs": [
    {
     "data": {
      "text/plain": [
       "['.ipynb_checkpoints',\n",
       " 'Assignments',\n",
       " 'destination',\n",
       " 'Experiments',\n",
       " 'exp_test.txt',\n",
       " 'function and lambda function.ipynb',\n",
       " 'Function continued .ipynb',\n",
       " 'iterator,map,reduce,filter.ipynb',\n",
       " 'logging,debugging.ipynb',\n",
       " 'Loop,conditional statements.ipynb',\n",
       " 'loops.ipynb',\n",
       " 'mytest',\n",
       " 'Numpy 13 aug.ipynb',\n",
       " 'pandas basic.ipynb',\n",
       " 'pandas day2.ipynb',\n",
       " 'Pandas day3.ipynb',\n",
       " 'pandas prac.ipynb',\n",
       " 'Py basic string.ipynb',\n",
       " 'py lists,tuples,dict.ipynb',\n",
       " 'pyinputplus.ipynb',\n",
       " 'Python string basic  (2).ipynb',\n",
       " 'Python_Assignment_15_May_FSDS_Bootcamp.ipynb',\n",
       " 'Regex function.ipynb',\n",
       " 'Review Scrapper.ipynb',\n",
       " 'solution.ipynb',\n",
       " 'Task_28_05_2022_Rupal.ipynb',\n",
       " 'test.txt',\n",
       " 'test2.txt',\n",
       " 'test5.txt',\n",
       " 'while loop and basic of function .ipynb',\n",
       " 'while loop.ipynb']"
      ]
     },
     "execution_count": 25,
     "metadata": {},
     "output_type": "execute_result"
    }
   ],
   "source": [
    "os.listdir()"
   ]
  },
  {
   "cell_type": "code",
   "execution_count": null,
   "id": "dde79f7e",
   "metadata": {},
   "outputs": [],
   "source": [
    "By using send2trash module we can send files to recycle bin or trash instead of permamently deleting them. This the much safer way to remove files instead of using other functions"
   ]
  },
  {
   "cell_type": "code",
   "execution_count": 27,
   "id": "e5a5db3a",
   "metadata": {},
   "outputs": [
    {
     "name": "stdout",
     "output_type": "stream",
     "text": [
      "Requirement already satisfied: send2trash in d:\\rupal\\anaconda\\lib\\site-packages (1.8.0)\n"
     ]
    }
   ],
   "source": [
    "!pip install send2trash"
   ]
  },
  {
   "cell_type": "code",
   "execution_count": 28,
   "id": "7e7594d1",
   "metadata": {},
   "outputs": [],
   "source": [
    "import send2trash"
   ]
  },
  {
   "cell_type": "code",
   "execution_count": 29,
   "id": "d4487034",
   "metadata": {},
   "outputs": [],
   "source": [
    "send2trash.send2trash('test.txt')"
   ]
  },
  {
   "cell_type": "code",
   "execution_count": 30,
   "id": "f9416692",
   "metadata": {},
   "outputs": [
    {
     "data": {
      "text/plain": [
       "['.ipynb_checkpoints',\n",
       " 'Assignments',\n",
       " 'destination',\n",
       " 'Experiments',\n",
       " 'exp_test.txt',\n",
       " 'function and lambda function.ipynb',\n",
       " 'Function continued .ipynb',\n",
       " 'iterator,map,reduce,filter.ipynb',\n",
       " 'logging,debugging.ipynb',\n",
       " 'Loop,conditional statements.ipynb',\n",
       " 'loops.ipynb',\n",
       " 'mytest',\n",
       " 'Numpy 13 aug.ipynb',\n",
       " 'pandas basic.ipynb',\n",
       " 'pandas day2.ipynb',\n",
       " 'Pandas day3.ipynb',\n",
       " 'pandas prac.ipynb',\n",
       " 'Py basic string.ipynb',\n",
       " 'py lists,tuples,dict.ipynb',\n",
       " 'pyinputplus.ipynb',\n",
       " 'Python string basic  (2).ipynb',\n",
       " 'Python_Assignment_15_May_FSDS_Bootcamp.ipynb',\n",
       " 'Regex function.ipynb',\n",
       " 'Review Scrapper.ipynb',\n",
       " 'solution.ipynb',\n",
       " 'Task_28_05_2022_Rupal.ipynb',\n",
       " 'test2.txt',\n",
       " 'test5.txt',\n",
       " 'while loop and basic of function .ipynb',\n",
       " 'while loop.ipynb']"
      ]
     },
     "execution_count": 30,
     "metadata": {},
     "output_type": "execute_result"
    }
   ],
   "source": [
    "os.listdir()"
   ]
  },
  {
   "cell_type": "markdown",
   "id": "e5301cab",
   "metadata": {},
   "source": [
    "4.ZipFile objects have a close() method just like File objects’ close() method. What ZipFile method is equivalent to File objects’ open() method?"
   ]
  },
  {
   "cell_type": "markdown",
   "id": "85e60896",
   "metadata": {},
   "source": [
    "--Zip file open() method is equivalent to File objects’ open() method \n"
   ]
  },
  {
   "cell_type": "markdown",
   "id": "0372ea78",
   "metadata": {},
   "source": [
    "eg:\n",
    "ZipFile.open(name, mode='r') #mode can be 'r' or 'w'\n",
    "\n"
   ]
  },
  {
   "cell_type": "markdown",
   "id": "d4c2ebbe",
   "metadata": {},
   "source": [
    "5. Create a programme that searches a folder tree for files with a certain file extension (such as .pdf or .jpg). Copy these files from whatever location they are in to a new folder."
   ]
  },
  {
   "cell_type": "code",
   "execution_count": 31,
   "id": "1c3aaf7a",
   "metadata": {},
   "outputs": [
    {
     "data": {
      "text/plain": [
       "'C:\\\\Users\\\\Wise\\\\FSDS Python'"
      ]
     },
     "execution_count": 31,
     "metadata": {},
     "output_type": "execute_result"
    }
   ],
   "source": [
    "os.getcwd()"
   ]
  },
  {
   "cell_type": "code",
   "execution_count": null,
   "id": "d2db3026",
   "metadata": {},
   "outputs": [],
   "source": [
    "path = \"C:\\Users\\Rupal\\OneDrive\\Desktop\\FSDS\\\"\n",
    "if file == .docx or .txt \n",
    "then copy to new folder fsds_copy\n",
    "if not then break\n"
   ]
  },
  {
   "cell_type": "code",
   "execution_count": 68,
   "id": "c2b8bf8e",
   "metadata": {},
   "outputs": [],
   "source": [
    "dir_path = os.path.dirname(os.path.realpath(\"C:\\\\Users\\\\Wise\\\\FSDS Python\\\\testt1\"))\n",
    "dst = (\"C:\\\\Users\\\\Wise\\\\FSDS Python\\\\test_new\")\n",
    "for root, dirs, files in os.walk(dir_path):\n",
    "    for file in files:\n",
    "        if file.endswith('.pdf') and file.endswith('.jpg'):\n",
    "            try:\n",
    "                if os.path.exists(dst):\n",
    "                    shutil.rmtree(dst)\n",
    "                    shutil.copy2(dir_path, dst)\n",
    "            except OSError as e:\n",
    "                if e.errno == errno.ENOTDIR:\n",
    "                    shutil.copy2(dir_path,dst)\n",
    "                else:\n",
    "                    print('Directory not copied. Error: %s' % e)"
   ]
  },
  {
   "cell_type": "code",
   "execution_count": 69,
   "id": "8c9daebc",
   "metadata": {},
   "outputs": [
    {
     "data": {
      "text/plain": [
       "['.ipynb_checkpoints',\n",
       " 'Assignment_10@.ipynb',\n",
       " 'Assignment_11.ipynb',\n",
       " 'EDA using automated tools in python.ipynb',\n",
       " 'test.txt',\n",
       " 'test2.txt']"
      ]
     },
     "execution_count": 69,
     "metadata": {},
     "output_type": "execute_result"
    }
   ],
   "source": [
    "os.listdir()"
   ]
  },
  {
   "cell_type": "code",
   "execution_count": null,
   "id": "410b89a5",
   "metadata": {},
   "outputs": [],
   "source": []
  }
 ],
 "metadata": {
  "kernelspec": {
   "display_name": "Python 3 (ipykernel)",
   "language": "python",
   "name": "python3"
  },
  "language_info": {
   "codemirror_mode": {
    "name": "ipython",
    "version": 3
   },
   "file_extension": ".py",
   "mimetype": "text/x-python",
   "name": "python",
   "nbconvert_exporter": "python",
   "pygments_lexer": "ipython3",
   "version": "3.9.12"
  }
 },
 "nbformat": 4,
 "nbformat_minor": 5
}
