{
 "cells": [
  {
   "cell_type": "markdown",
   "id": "034d3856",
   "metadata": {},
   "source": [
    "1. Create an assert statement that throws an AssertionError if the variable spam is a negative integer."
   ]
  },
  {
   "cell_type": "code",
   "execution_count": 6,
   "id": "79736c88",
   "metadata": {},
   "outputs": [
    {
     "name": "stdout",
     "output_type": "stream",
     "text": [
      "Enter a Varibale -5\n"
     ]
    },
    {
     "ename": "AssertionError",
     "evalue": "",
     "output_type": "error",
     "traceback": [
      "\u001b[1;31m---------------------------------------------------------------------------\u001b[0m",
      "\u001b[1;31mAssertionError\u001b[0m                            Traceback (most recent call last)",
      "Input \u001b[1;32mIn [6]\u001b[0m, in \u001b[0;36m<cell line: 2>\u001b[1;34m()\u001b[0m\n\u001b[0;32m      1\u001b[0m spam \u001b[38;5;241m=\u001b[39m \u001b[38;5;28mint\u001b[39m(\u001b[38;5;28minput\u001b[39m(\u001b[38;5;124m\"\u001b[39m\u001b[38;5;124mEnter a Varibale \u001b[39m\u001b[38;5;124m\"\u001b[39m))\n\u001b[1;32m----> 2\u001b[0m \u001b[38;5;28;01massert\u001b[39;00m spam \u001b[38;5;241m>\u001b[39m \u001b[38;5;241m0\u001b[39m\n",
      "\u001b[1;31mAssertionError\u001b[0m: "
     ]
    }
   ],
   "source": [
    "spam = int(input(\"Enter a Varibale \"))\n",
    "assert spam > 0"
   ]
  },
  {
   "cell_type": "markdown",
   "id": "048d744c",
   "metadata": {},
   "source": [
    "2 . Write an assert statement that triggers an AssertionError if the variables eggs and bacon contain strings that are the same as each other, even if their cases are different (that is, 'hello' and 'hello' are considered the same, and 'goodbye' and 'GOODbye' are also considered the same)."
   ]
  },
  {
   "cell_type": "code",
   "execution_count": 12,
   "id": "645125ef",
   "metadata": {},
   "outputs": [
    {
     "name": "stdout",
     "output_type": "stream",
     "text": [
      "Enter your string: goodbye\n",
      "Enter your string: GOODbye\n"
     ]
    },
    {
     "ename": "AssertionError",
     "evalue": "",
     "output_type": "error",
     "traceback": [
      "\u001b[1;31m---------------------------------------------------------------------------\u001b[0m",
      "\u001b[1;31mAssertionError\u001b[0m                            Traceback (most recent call last)",
      "Input \u001b[1;32mIn [12]\u001b[0m, in \u001b[0;36m<cell line: 3>\u001b[1;34m()\u001b[0m\n\u001b[0;32m      1\u001b[0m eggs \u001b[38;5;241m=\u001b[39m \u001b[38;5;28mstr\u001b[39m(\u001b[38;5;28minput\u001b[39m(\u001b[38;5;124m\"\u001b[39m\u001b[38;5;124mEnter your string: \u001b[39m\u001b[38;5;124m\"\u001b[39m))\n\u001b[0;32m      2\u001b[0m bacon \u001b[38;5;241m=\u001b[39m \u001b[38;5;28mstr\u001b[39m(\u001b[38;5;28minput\u001b[39m(\u001b[38;5;124m\"\u001b[39m\u001b[38;5;124mEnter your string: \u001b[39m\u001b[38;5;124m\"\u001b[39m))\n\u001b[1;32m----> 3\u001b[0m \u001b[38;5;28;01massert\u001b[39;00m (eggs\u001b[38;5;241m.\u001b[39mlower() \u001b[38;5;241m!=\u001b[39m bacon\u001b[38;5;241m.\u001b[39mlower() \u001b[38;5;129;01mor\u001b[39;00m eggs\u001b[38;5;241m.\u001b[39mupper() \u001b[38;5;241m!=\u001b[39m bacon\u001b[38;5;241m.\u001b[39mupper())\n",
      "\u001b[1;31mAssertionError\u001b[0m: "
     ]
    }
   ],
   "source": [
    "eggs = str(input(\"Enter your string: \"))\n",
    "bacon = str(input(\"Enter your string: \"))\n",
    "assert (eggs.lower() != bacon.lower() or eggs.upper() != bacon.upper())"
   ]
  },
  {
   "cell_type": "markdown",
   "id": "4fbd8d72",
   "metadata": {},
   "source": [
    "3. Create an assert statement that throws an AssertionError every time."
   ]
  },
  {
   "cell_type": "code",
   "execution_count": 15,
   "id": "c892c5a3",
   "metadata": {},
   "outputs": [],
   "source": [
    "assert False"
   ]
  },
  {
   "cell_type": "markdown",
   "id": "a84deb13",
   "metadata": {},
   "source": [
    "4. What are the two lines that must be present in your software in order to call logging.debug()?"
   ]
  },
  {
   "cell_type": "code",
   "execution_count": null,
   "id": "62a79b2b",
   "metadata": {},
   "outputs": [],
   "source": [
    "Logging is used for tracking events that happen when software runs.The developer adds logging calls to their code to indicate that certain events have occurred.\n",
    "In order yo call logging logging module should be imported from the library"
   ]
  },
  {
   "cell_type": "code",
   "execution_count": 1,
   "id": "e8a0b3aa",
   "metadata": {},
   "outputs": [],
   "source": [
    "import logging"
   ]
  },
  {
   "cell_type": "code",
   "execution_count": 2,
   "id": "b12ea909",
   "metadata": {},
   "outputs": [],
   "source": [
    "#Create one basic log file:\n",
    "logging.basicConfig(filename = 'abc.log',format='%(levelname)s:%(message)s', level=logging.DEBUG)\n",
    "logging.debug('trying logging debug')\n",
    "logging.info('This is an example file')\n",
    "logging.warning('And this, too')"
   ]
  },
  {
   "cell_type": "markdown",
   "id": "2fa8a672",
   "metadata": {},
   "source": [
    "5. What are the two lines that your program must have in order to have logging.debug() send a logging message to a file named programLog.txt?"
   ]
  },
  {
   "cell_type": "code",
   "execution_count": 3,
   "id": "6b3e9291",
   "metadata": {},
   "outputs": [],
   "source": [
    "logging.basicConfig(filename = 'abc.log',format='%(levelname)s:%(message)s', filemode = 'w', level=logging.DEBUG)\n",
    "logging.debug('trying logging debug')\n",
    "logging.info('This is an example file')\n",
    "logging.warning('And this, too')"
   ]
  },
  {
   "cell_type": "markdown",
   "id": "6a884921",
   "metadata": {},
   "source": [
    "6.What are the five levels of logging?"
   ]
  },
  {
   "cell_type": "markdown",
   "id": "dcb65c29",
   "metadata": {},
   "source": [
    "Five in-built level of logging are:\n",
    "1. DEBUG: Used to give detailed information, typically when diagnosing problems.\n",
    "2. Info: Used to confirm that software is working as expected.\n",
    "3. Warning : Used to indicated something unexpected has happen and there's some problem \n",
    "4. Error: used for serious problem, incase when software faces some problem\n",
    "5. Critical: used when some seriou error software is facing while running.\n"
   ]
  },
  {
   "cell_type": "markdown",
   "id": "76c1f4d0",
   "metadata": {},
   "source": [
    "7.What line of code would you add to your software to disable all logging messages?"
   ]
  },
  {
   "cell_type": "markdown",
   "id": "683b7fa1",
   "metadata": {},
   "source": [
    "logging.disable(level=CRITICAL)\n",
    "Its effect is to disable all logging calls of severity level and below, so that if you call it with a value of INFO, \n",
    "then all INFO and DEBUG events would be discarded."
   ]
  },
  {
   "cell_type": "code",
   "execution_count": null,
   "id": "5e0e73af",
   "metadata": {},
   "outputs": [],
   "source": [
    "8.Why is using logging messages better than using print() to display the same message?"
   ]
  },
  {
   "cell_type": "code",
   "execution_count": null,
   "id": "0ec90076",
   "metadata": {},
   "outputs": [],
   "source": [
    "Logging is very usedful and asy to see where and when a logging call is being made from. \n",
    "It should be used instead of print because you can log the exact time when the log has been called to \n",
    "look at the issue in your software this feature is not available int he print statement.\n",
    "It can also differentiate our logging based on severity."
   ]
  },
  {
   "cell_type": "markdown",
   "id": "dc50a87b",
   "metadata": {},
   "source": [
    "9.What are the differences between the Step Over, Step In, and Step Out buttons in the debugger?"
   ]
  },
  {
   "cell_type": "markdown",
   "id": "cf0f96ec",
   "metadata": {},
   "source": [
    "Step in:  It means that if there is a function call, it goes inside the function and you can see how the function is executing \n",
    "line by line till it returns.\n",
    "\n",
    "Step over:If the current line contains a function call, it runs the code and then stops execution at the first line of code \n",
    "after the called function returns.\n",
    "\n",
    "Step out:  Step out means if you execute a code and it continue running while you step out the and the function will return.\n"
   ]
  },
  {
   "cell_type": "markdown",
   "id": "310cad8e",
   "metadata": {},
   "source": [
    "10. After you click Continue, when will the debugger stop ?"
   ]
  },
  {
   "cell_type": "markdown",
   "id": "9d0ac6ce",
   "metadata": {},
   "source": [
    "Continue means resuming your code after it executes normally.\n",
    "When we click Continue in the debugger it will stop at the next breakpoint that we have set in the code.\n",
    "we can also set if we want to ignore the breakpoint set at these locations during execution"
   ]
  },
  {
   "cell_type": "markdown",
   "id": "f9a06748",
   "metadata": {},
   "source": [
    "11. What is the concept of a breakpoint?"
   ]
  },
  {
   "cell_type": "markdown",
   "id": "3862705a",
   "metadata": {},
   "source": [
    "A breakpoint is kind of the part where your code will stop debugging for us to see and check the code and \n",
    "what is causing an issue there.\n",
    "The Breakpoint has been set wby us and there can be multiple breakpoint in one code while debugging.\n"
   ]
  },
  {
   "cell_type": "code",
   "execution_count": null,
   "id": "bfd13bce",
   "metadata": {},
   "outputs": [],
   "source": []
  }
 ],
 "metadata": {
  "kernelspec": {
   "display_name": "Python 3 (ipykernel)",
   "language": "python",
   "name": "python3"
  },
  "language_info": {
   "codemirror_mode": {
    "name": "ipython",
    "version": 3
   },
   "file_extension": ".py",
   "mimetype": "text/x-python",
   "name": "python",
   "nbconvert_exporter": "python",
   "pygments_lexer": "ipython3",
   "version": "3.9.12"
  }
 },
 "nbformat": 4,
 "nbformat_minor": 5
}
