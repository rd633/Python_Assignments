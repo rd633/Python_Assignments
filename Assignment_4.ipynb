{
 "cells": [
  {
   "cell_type": "raw",
   "id": "bac5d445",
   "metadata": {},
   "source": [
    "1. What exactly is []?\n",
    "[] = is used to declare an empty list"
   ]
  },
  {
   "cell_type": "raw",
   "id": "66315849",
   "metadata": {},
   "source": [
    "2.In a list of values stored in a variable called spam, how would you assign the value 'hello' as the third value? (Assume [2, 4, 6, 8, 10] are in spam.)"
   ]
  },
  {
   "cell_type": "code",
   "execution_count": 1,
   "id": "4c86d424",
   "metadata": {},
   "outputs": [],
   "source": [
    "#solution-2\n",
    "spam = [2, 4, 6, 8, 10]"
   ]
  },
  {
   "cell_type": "code",
   "execution_count": 2,
   "id": "c29bad59",
   "metadata": {},
   "outputs": [
    {
     "name": "stdout",
     "output_type": "stream",
     "text": [
      "[2, 4, 'hello', 8, 10]\n"
     ]
    }
   ],
   "source": [
    "spam[2] = \"hello\"\n",
    "print(spam)"
   ]
  },
  {
   "cell_type": "raw",
   "id": "838551c4",
   "metadata": {},
   "source": [
    "Let's pretend the spam includes the list ['a', 'b', 'c', 'd'] for the next three queries."
   ]
  },
  {
   "cell_type": "code",
   "execution_count": 8,
   "id": "bb57f9e9",
   "metadata": {},
   "outputs": [],
   "source": [
    "spam = ['a', 'b', 'c', 'd']"
   ]
  },
  {
   "cell_type": "raw",
   "id": "d3f8fef9",
   "metadata": {},
   "source": [
    "3.. What is the value of spam[int(int('3' * 2) / 11)]?"
   ]
  },
  {
   "cell_type": "code",
   "execution_count": 9,
   "id": "5b8ee228",
   "metadata": {},
   "outputs": [
    {
     "data": {
      "text/plain": [
       "'d'"
      ]
     },
     "execution_count": 9,
     "metadata": {},
     "output_type": "execute_result"
    }
   ],
   "source": [
    "spam[int(int('3' * 2) / 11)] #its giving the value of index 3"
   ]
  },
  {
   "cell_type": "code",
   "execution_count": 10,
   "id": "088f4aa4",
   "metadata": {},
   "outputs": [
    {
     "data": {
      "text/plain": [
       "'d'"
      ]
     },
     "execution_count": 10,
     "metadata": {},
     "output_type": "execute_result"
    }
   ],
   "source": [
    "spam[-1] #its giving the last value (-1 is used to denote the last value in the list)"
   ]
  },
  {
   "cell_type": "code",
   "execution_count": 11,
   "id": "91e47255",
   "metadata": {},
   "outputs": [
    {
     "data": {
      "text/plain": [
       "['a', 'b']"
      ]
     },
     "execution_count": 11,
     "metadata": {},
     "output_type": "execute_result"
    }
   ],
   "source": [
    "spam[:2] #its givibf the value of 0 to 2 indexes"
   ]
  },
  {
   "cell_type": "raw",
   "id": "0758216e",
   "metadata": {},
   "source": [
    "6.Let's pretend bacon has the list [3.14, 'cat,' 11, 'cat,' True] for the next three questions."
   ]
  },
  {
   "cell_type": "code",
   "execution_count": 12,
   "id": "dc6786ca",
   "metadata": {},
   "outputs": [],
   "source": [
    "bacon = [3.14, 'cat', 11, 'cat', True]"
   ]
  },
  {
   "cell_type": "code",
   "execution_count": 13,
   "id": "e83afe19",
   "metadata": {},
   "outputs": [
    {
     "data": {
      "text/plain": [
       "1"
      ]
     },
     "execution_count": 13,
     "metadata": {},
     "output_type": "execute_result"
    }
   ],
   "source": [
    "bacon.index('cat') # giving the result as index of cat( 1st encountered) in list beacon"
   ]
  },
  {
   "cell_type": "code",
   "execution_count": 17,
   "id": "af291b6e",
   "metadata": {},
   "outputs": [],
   "source": [
    "bacon.remove(99)"
   ]
  },
  {
   "cell_type": "code",
   "execution_count": 18,
   "id": "33548876",
   "metadata": {},
   "outputs": [
    {
     "data": {
      "text/plain": [
       "[3.14, 'cat', 11, 'cat', True, 99]"
      ]
     },
     "execution_count": 18,
     "metadata": {},
     "output_type": "execute_result"
    }
   ],
   "source": [
    "bacon.append(99) #its adding the value 99 at the end of the list"
   ]
  },
  {
   "cell_type": "code",
   "execution_count": 19,
   "id": "94097aec",
   "metadata": {},
   "outputs": [],
   "source": [
    "bacon.remove('cat') #removing first value cat from the list"
   ]
  },
  {
   "cell_type": "code",
   "execution_count": 20,
   "id": "22f15479",
   "metadata": {},
   "outputs": [
    {
     "data": {
      "text/plain": [
       "[3.14, 11, 'cat', True, 99]"
      ]
     },
     "execution_count": 20,
     "metadata": {},
     "output_type": "execute_result"
    }
   ],
   "source": [
    "bacon"
   ]
  },
  {
   "cell_type": "raw",
   "id": "188234a4",
   "metadata": {},
   "source": [
    "9. What are the list concatenation and list replication operators?"
   ]
  },
  {
   "cell_type": "raw",
   "id": "11492dc8",
   "metadata": {},
   "source": [
    "list concat opr = '+'\n",
    "list replication opr = '*'"
   ]
  },
  {
   "cell_type": "code",
   "execution_count": 1,
   "id": "6bcce207",
   "metadata": {},
   "outputs": [],
   "source": [
    "#eg. \n",
    "list_concat_opr = [1,2,3,5]+ ['hi','bye',True]\n",
    "list_rep_opr = ['x','y','z']*4"
   ]
  },
  {
   "cell_type": "code",
   "execution_count": 2,
   "id": "fe83250a",
   "metadata": {},
   "outputs": [
    {
     "data": {
      "text/plain": [
       "['x', 'y', 'z', 'x', 'y', 'z', 'x', 'y', 'z', 'x', 'y', 'z']"
      ]
     },
     "execution_count": 2,
     "metadata": {},
     "output_type": "execute_result"
    }
   ],
   "source": [
    "\n",
    "list_rep_opr"
   ]
  },
  {
   "cell_type": "code",
   "execution_count": 3,
   "id": "d5112bdf",
   "metadata": {},
   "outputs": [
    {
     "data": {
      "text/plain": [
       "[1, 2, 3, 5, 'hi', 'bye', True]"
      ]
     },
     "execution_count": 3,
     "metadata": {},
     "output_type": "execute_result"
    }
   ],
   "source": [
    "list_concat_opr"
   ]
  },
  {
   "cell_type": "raw",
   "id": "f6daaf3f",
   "metadata": {},
   "source": [
    "10. What is difference between the list methods append() and insert()?\n",
    "--By using .append() we can add elements to the list but elements will be added at the last position.\n",
    "insert() we can insert element at any index"
   ]
  },
  {
   "cell_type": "raw",
   "id": "2415a80e",
   "metadata": {},
   "source": [
    "11. What are the two methods for removing items from a list?\n",
    "1st - .remove()\n",
    "2nd - .pop()"
   ]
  },
  {
   "cell_type": "raw",
   "id": "a3a12b01",
   "metadata": {},
   "source": [
    "12. Describe how list values and string values are identical.\n",
    "--list values and string values are same as they both are sequences.\n",
    "also both haveordered collection of characters except when the characters are different in list. "
   ]
  },
  {
   "cell_type": "raw",
   "id": "eda44c27",
   "metadata": {},
   "source": [
    "13. What's the difference between tuples and lists?\n",
    "lists are mutable whereas tupels are immutable"
   ]
  },
  {
   "cell_type": "raw",
   "id": "b03e1bfc",
   "metadata": {},
   "source": [
    "14. How do you type a tuple value that only contains the integer 42?"
   ]
  },
  {
   "cell_type": "code",
   "execution_count": 8,
   "id": "d0f2ff7e",
   "metadata": {},
   "outputs": [
    {
     "data": {
      "text/plain": [
       "(42,)"
      ]
     },
     "execution_count": 8,
     "metadata": {},
     "output_type": "execute_result"
    }
   ],
   "source": [
    "a = (42,)\n",
    "a"
   ]
  },
  {
   "cell_type": "code",
   "execution_count": 9,
   "id": "f3179887",
   "metadata": {},
   "outputs": [
    {
     "data": {
      "text/plain": [
       "tuple"
      ]
     },
     "execution_count": 9,
     "metadata": {},
     "output_type": "execute_result"
    }
   ],
   "source": [
    "type(a)"
   ]
  },
  {
   "cell_type": "raw",
   "id": "50092290",
   "metadata": {},
   "source": [
    "15. How do you get a list values in tuple form? How do you get a tuple values in list form?"
   ]
  },
  {
   "cell_type": "code",
   "execution_count": 11,
   "id": "27fc951b",
   "metadata": {},
   "outputs": [],
   "source": [
    "#15\n",
    "s = [1,2,5,'hello', 87.55, 2+8j]"
   ]
  },
  {
   "cell_type": "code",
   "execution_count": 12,
   "id": "107404d5",
   "metadata": {},
   "outputs": [],
   "source": [
    "t = ('bye', 'lol', 66,78,3.25)"
   ]
  },
  {
   "cell_type": "code",
   "execution_count": 13,
   "id": "f45bd07b",
   "metadata": {},
   "outputs": [],
   "source": [
    "s1 = tuple(s)"
   ]
  },
  {
   "cell_type": "code",
   "execution_count": 14,
   "id": "f1468949",
   "metadata": {},
   "outputs": [
    {
     "data": {
      "text/plain": [
       "tuple"
      ]
     },
     "execution_count": 14,
     "metadata": {},
     "output_type": "execute_result"
    }
   ],
   "source": [
    "type(s1)"
   ]
  },
  {
   "cell_type": "code",
   "execution_count": 15,
   "id": "531e78ff",
   "metadata": {},
   "outputs": [],
   "source": [
    "t1= list(t)"
   ]
  },
  {
   "cell_type": "code",
   "execution_count": 16,
   "id": "2bc696e7",
   "metadata": {},
   "outputs": [
    {
     "data": {
      "text/plain": [
       "list"
      ]
     },
     "execution_count": 16,
     "metadata": {},
     "output_type": "execute_result"
    }
   ],
   "source": [
    "type(t1)"
   ]
  },
  {
   "cell_type": "raw",
   "id": "2386fbe5",
   "metadata": {},
   "source": [
    "16. Variables that \"contain\" list values are not necessarily lists themselves. Instead, what do they contain?\n",
    "--they contain reference to list values"
   ]
  },
  {
   "cell_type": "code",
   "execution_count": null,
   "id": "c8cd3f49",
   "metadata": {},
   "outputs": [],
   "source": []
  },
  {
   "cell_type": "raw",
   "id": "e698bbd3",
   "metadata": {},
   "source": [
    "17. How do you distinguish between copy.copy() and copy.deepcopy()?\n",
    "--when working with 1d lists copy.copy() works similar but when we are using nested list in copy() it will use the same memory location as the main list but in deepcopy() it will create different memory location than the main list for the copied list.\n"
   ]
  }
 ],
 "metadata": {
  "kernelspec": {
   "display_name": "Python 3",
   "language": "python",
   "name": "python3"
  },
  "language_info": {
   "codemirror_mode": {
    "name": "ipython",
    "version": 3
   },
   "file_extension": ".py",
   "mimetype": "text/x-python",
   "name": "python",
   "nbconvert_exporter": "python",
   "pygments_lexer": "ipython3",
   "version": "3.8.8"
  }
 },
 "nbformat": 4,
 "nbformat_minor": 5
}
